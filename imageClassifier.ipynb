{
 "cells": [
  {
   "cell_type": "code",
   "execution_count": null,
   "id": "5f7ec36d-67ae-47a5-9f16-30ba2a47ed76",
   "metadata": {
    "tags": []
   },
   "outputs": [],
   "source": [
    "#Install Dependencies\n",
    "!pip install tensorflow tensorflow-gpu opencv-python matplotlib"
   ]
  },
  {
   "cell_type": "code",
   "execution_count": null,
   "id": "33f1b60b-1638-4a13-9108-0b82e16fa20b",
   "metadata": {},
   "outputs": [],
   "source": [
    "import tensorflow as tf\n",
    "import os"
   ]
  },
  {
   "cell_type": "code",
   "execution_count": null,
   "id": "926820fc-30ec-4125-bd3f-8d3003a8673d",
   "metadata": {},
   "outputs": [],
   "source": [
    "# Avoid OOM errors by setting GPU Memory Consumption Growth\n",
    "gpus = tf.config.experimental.list_physical_devices('GPU')\n",
    "for gpu in gpus: \n",
    "    tf.config.experimental.set_memory_growth(gpu, True)\n",
    "tf.config.list_physical_devices('GPU') #Check GPUs    "
   ]
  },
  {
   "cell_type": "markdown",
   "id": "f21c0d56-828d-47bb-8077-f7895e57ad0b",
   "metadata": {},
   "source": []
  },
  {
   "cell_type": "code",
   "execution_count": null,
   "id": "ec1d0379-07e2-40c1-b32e-3a33b37e365d",
   "metadata": {},
   "outputs": [],
   "source": [
    "import cv2 #OpenCV Library\n",
    "import imghdr #To Check File Extension"
   ]
  },
  {
   "cell_type": "code",
   "execution_count": null,
   "id": "e7cc1b35-6cc7-4159-9cfd-2d928a04a584",
   "metadata": {},
   "outputs": [],
   "source": [
    "data_dir = 'data2' \n",
    "image_exts = ['jpeg','jpg', 'bmp', 'png']\n",
    "#To Remove any dodgy Images\n",
    "for image_class in os.listdir(data_dir): \n",
    "    for image in os.listdir(os.path.join(data_dir, image_class)):\n",
    "        image_path = os.path.join(data_dir, image_class, image)\n",
    "        try: \n",
    "            img = cv2.imread(image_path)\n",
    "            tip = imghdr.what(image_path)\n",
    "            if tip not in image_exts: \n",
    "                print('Image not in ext list {}'.format(image_path))\n",
    "                os.remove(image_path)\n",
    "        except Exception as e: \n",
    "            print('Issue with image {}'.format(image_path))\n",
    "            # os.remove(image_path)"
   ]
  },
  {
   "cell_type": "markdown",
   "id": "9bda7941-7574-41c3-bde6-f6a460a81f8a",
   "metadata": {},
   "source": []
  },
  {
   "cell_type": "code",
   "execution_count": null,
   "id": "d6b4c05d-f663-4d6b-ac70-7153f2005be5",
   "metadata": {},
   "outputs": [],
   "source": [
    "import numpy as np\n",
    "from matplotlib import pyplot as plt"
   ]
  },
  {
   "cell_type": "code",
   "execution_count": null,
   "id": "250c5554-8ac4-48eb-9d02-2220fbe611a2",
   "metadata": {},
   "outputs": [],
   "source": [
    "#Creates a data Pipeline\n",
    "data = tf.keras.utils.image_dataset_from_directory(data_dir) "
   ]
  },
  {
   "cell_type": "code",
   "execution_count": null,
   "id": "8f9c2edb-0154-47db-a04c-8449fcf266fe",
   "metadata": {},
   "outputs": [],
   "source": [
    "#To allow us to access the images as batch\n",
    "data_iterator = data.as_numpy_iterator()"
   ]
  },
  {
   "cell_type": "code",
   "execution_count": null,
   "id": "d23a7610-7a3b-4a96-accb-cee16c855e18",
   "metadata": {},
   "outputs": [],
   "source": [
    "#Run this to get another Batch\n",
    "batch = data_iterator.next()"
   ]
  },
  {
   "cell_type": "code",
   "execution_count": null,
   "id": "3de43334-00c2-4460-935d-c8adac10eaf3",
   "metadata": {},
   "outputs": [],
   "source": [
    "# Class 0= Bus; Class 1= Car\n",
    "fig, ax = plt.subplots(ncols=4, figsize=(20,20))\n",
    "for idx, img in enumerate(batch[0][:4]):\n",
    "    ax[idx].imshow(img.astype(int))\n",
    "    ax[idx].title.set_text(batch[1][idx])"
   ]
  },
  {
   "cell_type": "markdown",
   "id": "84a4e0ab-2753-45fb-aa30-7bd5a3af45be",
   "metadata": {},
   "source": []
  },
  {
   "cell_type": "code",
   "execution_count": null,
   "id": "07cf92c9-6a02-454a-a034-c53e1a8922c3",
   "metadata": {},
   "outputs": [],
   "source": [
    "#Scale the Data\n",
    "data = data.map(lambda x,y: (x/255, y))"
   ]
  },
  {
   "cell_type": "code",
   "execution_count": null,
   "id": "67b72634-9e4e-4cc3-bd10-854d4548d59f",
   "metadata": {
    "tags": []
   },
   "outputs": [],
   "source": [
    "data.as_numpy_iterator().next()"
   ]
  },
  {
   "cell_type": "markdown",
   "id": "954389ad-8bcd-4c64-97fe-822517202e4d",
   "metadata": {},
   "source": []
  },
  {
   "cell_type": "code",
   "execution_count": null,
   "id": "7c52f701-ec37-4559-94ef-0e6028d0d991",
   "metadata": {},
   "outputs": [],
   "source": [
    "#Split the data into Training,Validation and Testing sets\n",
    "train_size = int(len(data)*.7)\n",
    "val_size = int(len(data)*.2)\n",
    "test_size = int(len(data)*.1)"
   ]
  },
  {
   "cell_type": "code",
   "execution_count": null,
   "id": "f1a1baf5-c8ca-4f47-b16c-21a1c0495a0a",
   "metadata": {},
   "outputs": [],
   "source": [
    "train = data.take(train_size)\n",
    "val = data.skip(train_size).take(val_size)\n",
    "test = data.skip(train_size+val_size).take(test_size)"
   ]
  },
  {
   "cell_type": "markdown",
   "id": "3c2a3324-b266-4725-b4fa-25e6edfaa84f",
   "metadata": {},
   "source": []
  },
  {
   "cell_type": "code",
   "execution_count": null,
   "id": "b18f6ec2-7556-4ff7-8448-bbf195ced91d",
   "metadata": {},
   "outputs": [],
   "source": [
    "from tensorflow.keras.models import Sequential\n",
    "from tensorflow.keras.layers import Conv2D, MaxPooling2D, Dense, Flatten, Dropout"
   ]
  },
  {
   "cell_type": "code",
   "execution_count": null,
   "id": "ea9a0991-a6f0-4abd-93cd-f7f497a193ef",
   "metadata": {},
   "outputs": [],
   "source": [
    "#Build the Deep Learning Model \n",
    "model = Sequential()\n",
    "model.add(Conv2D(16, (3,3), 1, activation='relu', input_shape=(256,256,3)))\n",
    "model.add(MaxPooling2D())\n",
    "model.add(Conv2D(32, (3,3), 1, activation='relu'))\n",
    "model.add(MaxPooling2D())\n",
    "model.add(Conv2D(16, (3,3), 1, activation='relu'))\n",
    "model.add(MaxPooling2D())\n",
    "model.add(Flatten())\n",
    "model.add(Dense(256, activation='relu'))\n",
    "model.add(Dense(1, activation='sigmoid'))"
   ]
  },
  {
   "cell_type": "code",
   "execution_count": null,
   "id": "19c9ca9b-1bbe-4f14-944e-37eb1e2bde6d",
   "metadata": {},
   "outputs": [],
   "source": [
    "model.compile('adam', loss=tf.losses.BinaryCrossentropy(), metrics=['accuracy'])"
   ]
  },
  {
   "cell_type": "code",
   "execution_count": null,
   "id": "98f2867b-6f24-48c2-8e4c-3fe0acc28211",
   "metadata": {},
   "outputs": [],
   "source": [
    "model.summary()"
   ]
  },
  {
   "cell_type": "markdown",
   "id": "c60f2532-f011-4b62-a223-da8b8951735c",
   "metadata": {},
   "source": []
  },
  {
   "cell_type": "code",
   "execution_count": null,
   "id": "c2d9e4d8-65db-4158-a988-6385363071b0",
   "metadata": {},
   "outputs": [],
   "source": [
    "#Train the model\n",
    "logdir='logs' #Store the logs in logs folder"
   ]
  },
  {
   "cell_type": "code",
   "execution_count": null,
   "id": "07eb2cd9-122e-45fc-a19a-a52d5c64a10a",
   "metadata": {},
   "outputs": [],
   "source": [
    "tensorboard_callback = tf.keras.callbacks.TensorBoard(log_dir=logdir) "
   ]
  },
  {
   "cell_type": "code",
   "execution_count": null,
   "id": "a9cec368-6528-442f-a59b-299b80057e7e",
   "metadata": {
    "scrolled": true,
    "tags": []
   },
   "outputs": [],
   "source": [
    "hist = model.fit(train, epochs=20, validation_data=val, callbacks=[tensorboard_callback])"
   ]
  },
  {
   "cell_type": "markdown",
   "id": "fbf88f4e-5ed4-4331-bb59-3f88ab27cc2b",
   "metadata": {},
   "source": []
  },
  {
   "cell_type": "code",
   "execution_count": null,
   "id": "2c145a22-b9bf-478a-9bd8-0ca2ab337690",
   "metadata": {},
   "outputs": [],
   "source": [
    "#Plot Performance\n",
    "fig = plt.figure()\n",
    "plt.plot(hist.history['loss'], color='teal', label='loss')\n",
    "plt.plot(hist.history['val_loss'], color='orange', label='val_loss')\n",
    "fig.suptitle('Loss', fontsize=20)\n",
    "plt.legend(loc=\"upper left\")\n",
    "plt.show()"
   ]
  },
  {
   "cell_type": "code",
   "execution_count": null,
   "id": "550cb1b4-b491-4ff8-98e1-9df50b5b1387",
   "metadata": {},
   "outputs": [],
   "source": [
    "fig = plt.figure()\n",
    "plt.plot(hist.history['accuracy'], color='teal', label='accuracy')\n",
    "plt.plot(hist.history['val_accuracy'], color='orange', label='val_accuracy')\n",
    "fig.suptitle('Accuracy', fontsize=20)\n",
    "plt.legend(loc=\"upper left\")\n",
    "plt.show()"
   ]
  },
  {
   "cell_type": "markdown",
   "id": "4c853416-bd9a-4d66-8719-17653a333031",
   "metadata": {},
   "source": []
  },
  {
   "cell_type": "code",
   "execution_count": null,
   "id": "621310ff-638e-4213-baa5-6d768d96a782",
   "metadata": {},
   "outputs": [],
   "source": [
    "#Evaluate the model\n",
    "from tensorflow.keras.metrics import Precision, Recall, BinaryAccuracy"
   ]
  },
  {
   "cell_type": "code",
   "execution_count": null,
   "id": "9f20ff96-57a0-4b19-9887-6eb47da96819",
   "metadata": {},
   "outputs": [],
   "source": [
    "pre = Precision()\n",
    "re = Recall()\n",
    "acc = BinaryAccuracy()"
   ]
  },
  {
   "cell_type": "code",
   "execution_count": null,
   "id": "df117307-6776-4a8b-80bd-a4f27501c1a1",
   "metadata": {},
   "outputs": [],
   "source": [
    "for batch in test.as_numpy_iterator(): \n",
    "    X, y = batch\n",
    "    yhat = model.predict(X)\n",
    "    pre.update_state(y, yhat)\n",
    "    re.update_state(y, yhat)\n",
    "    acc.update_state(y, yhat)"
   ]
  },
  {
   "cell_type": "code",
   "execution_count": null,
   "id": "c952bd09-6327-4dcb-93c0-76cd4274245c",
   "metadata": {},
   "outputs": [],
   "source": [
    "print ('Precision: {}, Recall: {}, Accuracy: {}'.format(pre.result().numpy(), re.result().numpy(), acc.result().numpy()))"
   ]
  },
  {
   "cell_type": "markdown",
   "id": "ea7cd4d9-bcef-478e-9efe-efad4894c8b4",
   "metadata": {},
   "source": []
  },
  {
   "cell_type": "code",
   "execution_count": null,
   "id": "ee97f788-41c0-4d7d-a437-6b1e097997b5",
   "metadata": {},
   "outputs": [],
   "source": [
    "#Test the model\n",
    "\n",
    "img = cv2.imread('1551372472phpGOyzEC.jpeg')\n",
    "plt.imshow(cv2.cvtColor(img, cv2.COLOR_BGR2RGB))\n",
    "plt.show()"
   ]
  },
  {
   "cell_type": "code",
   "execution_count": null,
   "id": "fe123229-6240-4404-ad82-b804937fdd53",
   "metadata": {},
   "outputs": [],
   "source": [
    "resize = tf.image.resize(img, (256,256))\n",
    "plt.imshow(resize.numpy().astype(int))\n",
    "plt.show()"
   ]
  },
  {
   "cell_type": "code",
   "execution_count": null,
   "id": "6fe159c1-de7d-40a5-8b0a-25876b70fb05",
   "metadata": {},
   "outputs": [],
   "source": [
    "test_new = model.predict(np.expand_dims(resize/255, 0))"
   ]
  },
  {
   "cell_type": "code",
   "execution_count": null,
   "id": "51211098-8be5-4940-87ff-96137183d1dc",
   "metadata": {},
   "outputs": [],
   "source": [
    "if test_new > 0.5: \n",
    "    print(f'Predicted class is Car')\n",
    "else:\n",
    "    print(f'Predicted class is Bus')"
   ]
  },
  {
   "cell_type": "markdown",
   "id": "f7c033be-8bdc-4c92-9465-c27211e9f17a",
   "metadata": {},
   "source": []
  },
  {
   "cell_type": "code",
   "execution_count": null,
   "id": "239aa410-aa27-4fb4-b75b-8c2eafef162d",
   "metadata": {},
   "outputs": [],
   "source": [
    "#Save the model\n",
    "model.save(os.path.join('models','buscarmodel.h5'))"
   ]
  },
  {
   "cell_type": "code",
   "execution_count": null,
   "id": "f0da59d4-59a4-427f-86d1-34bb38a41ff7",
   "metadata": {},
   "outputs": [],
   "source": []
  }
 ],
 "metadata": {
  "kernelspec": {
   "display_name": "imageclassification",
   "language": "python",
   "name": "imageclassification"
  },
  "language_info": {
   "codemirror_mode": {
    "name": "ipython",
    "version": 3
   },
   "file_extension": ".py",
   "mimetype": "text/x-python",
   "name": "python",
   "nbconvert_exporter": "python",
   "pygments_lexer": "ipython3",
   "version": "3.9.13"
  }
 },
 "nbformat": 4,
 "nbformat_minor": 5
}
